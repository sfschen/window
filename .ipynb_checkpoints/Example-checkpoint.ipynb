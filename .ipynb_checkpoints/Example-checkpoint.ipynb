{
 "cells": [
  {
   "cell_type": "code",
   "execution_count": 1,
   "id": "cb819553-169c-4456-af17-04ef601691cf",
   "metadata": {},
   "outputs": [],
   "source": [
    "import numpy as np\n",
    "from matplotlib import pyplot as plt\n",
    "from scipy.interpolate import InterpolatedUnivariateSpline as Spline"
   ]
  },
  {
   "cell_type": "code",
   "execution_count": 2,
   "id": "adb45965-a642-4a4e-8461-19862d7dcc3a",
   "metadata": {},
   "outputs": [],
   "source": [
    "# Input and output k vector\n",
    "# Assumes that input is log-spaced and output is linearly binned\n",
    "\n",
    "kk  = np.logspace(-4.0,3.0,2000)\n",
    "kout = np.arange(0,0.5,0.01)"
   ]
  },
  {
   "cell_type": "code",
   "execution_count": 4,
   "id": "47157e0c-7d98-4f2f-96c7-58f2328df0d0",
   "metadata": {},
   "outputs": [],
   "source": [
    "# Load the window function:\n",
    "\n",
    "win = np.loadtxt('eboss_window.txt')\n",
    "\n",
    "rwin, w0, w2, w4, w6, w8 = win[:,0], win[:,1], win[:,2], win[:,3], win[:,4], win[:,5]\n",
    "w0 /= w0[0]\n",
    "w2 /= w0[0]\n",
    "w4 /= w0[0]\n",
    "w6 /= w0[0]\n",
    "w8 /= w0[0]"
   ]
  },
  {
   "cell_type": "code",
   "execution_count": null,
   "id": "22e70e27-d7dc-42e4-8023-36845c184329",
   "metadata": {},
   "outputs": [],
   "source": []
  },
  {
   "cell_type": "code",
   "execution_count": 5,
   "id": "f00caf6e-bb37-42dc-a01f-0318f6163a1c",
   "metadata": {},
   "outputs": [],
   "source": [
    "# How to use the module:\n",
    "from make_window_matrix import make_window_matrix\n",
    "\n",
    "window_matrix = make_window_matrix((rwin,w0,w2,w4,w6,w8), kin = kk, kout=kout)"
   ]
  },
  {
   "cell_type": "code",
   "execution_count": null,
   "id": "bfa89fc5-5f35-45c5-8358-a20f94c9abcb",
   "metadata": {},
   "outputs": [],
   "source": []
  },
  {
   "cell_type": "code",
   "execution_count": 8,
   "id": "a0acf1ba-e775-42ce-92df-68423c345b43",
   "metadata": {},
   "outputs": [],
   "source": [
    "# Make fake data to test:\n",
    "from loginterp import loginterp\n",
    "\n",
    "ki, pi = np.loadtxt('fiducial_pk.txt', unpack=True)\n",
    "\n",
    "b = 1\n",
    "f = 1\n",
    "p0in = (b**2 + 2./3 * b*f + 1./5*f**2 ) * loginterp(ki,pi)(kk)\n",
    "p2in = (4./3 * b*f + 4./7*f**2 ) * loginterp(ki,pi)(kk)\n",
    "p4in = 8./35*f**2  * loginterp(ki,pi)(kk)\n",
    "\n",
    "pvector = np.concatenate((p0in, p2in, p4in))\n",
    "pout    = np.dot(window_matrix.T, pvector)"
   ]
  },
  {
   "cell_type": "code",
   "execution_count": 12,
   "id": "bb55d4d9-e778-41ee-ab26-449f12192aba",
   "metadata": {},
   "outputs": [],
   "source": [
    "# Compare matrix multiplication with direct transform of the example power spectrum:\n",
    "from spherical_bessel_transform import SphericalBesselTransform\n",
    "\n",
    "p0 = p0in\n",
    "p2 = p2in\n",
    "p4 = p4in\n",
    "    \n",
    "sbt   = SphericalBesselTransform(kk,fourier=True)\n",
    "q0,xi0= sbt.sph(0,p0)\n",
    "q2,xi2= sbt.sph(2,p2); xi2 = Spline(q2,xi2)(q0)\n",
    "q4,xi4= sbt.sph(4,p4); xi4 = Spline(q4,xi4)(q0)\n",
    "\n",
    "w0 = Spline(rwin,w0,ext=3)(q0)\n",
    "w2 = Spline(rwin,w2,ext=1)(q0)\n",
    "w4 = Spline(rwin,w4,ext=1)(q0)\n",
    "w6 = Spline(rwin,w6,ext=1)(q0)\n",
    "w8 = Spline(rwin,w8,ext=1)(q0)\n",
    "\n",
    "    \n",
    "sbt  = SphericalBesselTransform(q0,fourier=False)\n",
    "    \n",
    "xi0p   = xi0*w0 + 1./5.*xi2*w2  + 1./9.*xi4*w4\n",
    "xi2p   = xi0*w2 + xi2*(w0+2./7.*w2+2./7.*w4) + \\\n",
    "                xi4*(2./7.*w2+100./693.*w4 + 25./143.*w6)\n",
    "xi4p   = xi0*w4 + xi2*(18./35*w2 + 20./77*w4 + 45./143*w6)\\\n",
    "                 + xi4*(w0 + 20./77*w2 + 162./1001*w4 + 20./143*w6 + 490./2431*w8)\n",
    "    \n",
    "k0,p0   = sbt.sph(0,4*np.pi*xi0p)\n",
    "k2,p2   = sbt.sph(2,4*np.pi*xi2p)\n",
    "k4,p4   = sbt.sph(4,4*np.pi*xi4p)\n",
    "    \n",
    "thy0 = Spline(k0,p0,ext=1)\n",
    "thy2 = Spline(k2,p2,ext=1)\n",
    "thy4 = Spline(k4,p4,ext=1)\n",
    "dx   = kout[1]-kout[0]\n",
    "    \n",
    "tmp0 = np.zeros_like(kout)\n",
    "tmp2 = np.zeros_like(kout)\n",
    "tmp4 = np.zeros_like(kout)\n",
    "\n",
    "for i in range(kout.size):\n",
    "    ss     = np.linspace(kout[i]-dx/2,kout[i]+dx/2,100)\n",
    "    ivol   = 3.0/((kout[i]+dx/2)**3-(kout[i]-dx/2)**3)\n",
    "        \n",
    "    tmp0[i]= np.trapz(ss**2*thy0(ss),x=ss)*ivol\n",
    "    tmp2[i]= np.trapz(ss**2*thy2(ss),x=ss)*ivol\n",
    "    tmp4[i]= np.trapz(ss**2*thy4(ss),x=ss)*ivol\n",
    "    \n",
    "ptest = np.concatenate((tmp0,tmp2,tmp4))"
   ]
  },
  {
   "cell_type": "code",
   "execution_count": 16,
   "id": "93c73ea6-2a4a-402e-aa16-6fe1fc4f1d2b",
   "metadata": {},
   "outputs": [
    {
     "data": {
      "text/plain": [
       "<matplotlib.legend.Legend at 0x2aaad42bdf10>"
      ]
     },
     "execution_count": 16,
     "metadata": {},
     "output_type": "execute_result"
    },
    {
     "data": {
      "image/png": "[encoded data removed]",
      "text/plain": [
       "<Figure size 432x288 with 1 Axes>"
      ]
     },
     "metadata": {
      "needs_background": "light"
     },
     "output_type": "display_data"
    }
   ],
   "source": [
    "plt.plot(kout, pout[:50], 'C0.-',label='matrix')\n",
    "plt.plot(kout, pout[50:100], 'C1.-')\n",
    "plt.plot(kout, pout[100:], 'C2.-')\n",
    "\n",
    "plt.plot(kout, ptest[:50], 'C0+',label='fft')\n",
    "plt.plot(kout, ptest[50:100], 'C1+')\n",
    "plt.plot(kout, ptest[100:150], 'C2+')\n",
    "\n",
    "plt.xlabel('k')\n",
    "plt.legend()"
   ]
  },
  {
   "cell_type": "code",
   "execution_count": 15,
   "id": "2146f217-4b6b-410a-a9fd-68e9754efd6b",
   "metadata": {},
   "outputs": [
    {
     "data": {
      "text/plain": [
       "Text(0, 0.5, '$(P_{\\\\rm mat} - P_{\\\\rm fft}) / P_{\\\\rm fft}$')"
      ]
     },
     "execution_count": 15,
     "metadata": {},
     "output_type": "execute_result"
    },
    {
     "data": {
      "image/png": "[encoded data removed]",
      "text/plain": [
       "<Figure size 432x288 with 1 Axes>"
      ]
     },
     "metadata": {
      "needs_background": "light"
     },
     "output_type": "display_data"
    }
   ],
   "source": [
    "plt.plot(kout, pout[:50]/ptest[:50] - 1, 'C0')\n",
    "plt.plot(kout, pout[50:100]/ptest[50:100] - 1, 'C1')\n",
    "plt.plot(kout, pout[100:150]/ptest[100:150] - 1, 'C2')\n",
    "\n",
    "plt.xlabel('k')\n",
    "plt.ylabel(r'$(P_{\\rm mat} - P_{\\rm fft}) / P_{\\rm fft}$')"
   ]
  },
  {
   "cell_type": "code",
   "execution_count": null,
   "id": "f966016b-b2f8-43df-9e7e-b106f4b6da2a",
   "metadata": {},
   "outputs": [],
   "source": []
  }
 ],
 "metadata": {
  "kernelspec": {
   "display_name": "nersc_env",
   "language": "python",
   "name": "nersc_env"
  },
  "language_info": {
   "codemirror_mode": {
    "name": "ipython",
    "version": 3
   },
   "file_extension": ".py",
   "mimetype": "text/x-python",
   "name": "python",
   "nbconvert_exporter": "python",
   "pygments_lexer": "ipython3",
   "version": "3.8.8"
  }
 },
 "nbformat": 4,
 "nbformat_minor": 5
}
